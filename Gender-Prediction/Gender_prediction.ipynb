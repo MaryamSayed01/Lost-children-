{
  "nbformat": 4,
  "nbformat_minor": 0,
  "metadata": {
    "colab": {
      "provenance": [],
      "collapsed_sections": [
        "siIHBHd876_0"
      ]
    },
    "kernelspec": {
      "name": "python3",
      "display_name": "Python 3"
    },
    "language_info": {
      "name": "python"
    },
    "accelerator": "GPU",
    "gpuClass": "standard"
  },
  "cells": [
    {
      "cell_type": "code",
      "execution_count": 1,
      "metadata": {
        "colab": {
          "base_uri": "https://localhost:8080/"
        },
        "id": "obm_yMB1bwy4",
        "outputId": "6f276378-e06a-4642-b292-5edd16029921"
      },
      "outputs": [
        {
          "output_type": "stream",
          "name": "stdout",
          "text": [
            "Looking in indexes: https://pypi.org/simple, https://us-python.pkg.dev/colab-wheels/public/simple/\n",
            "Collecting opendatasets\n",
            "  Downloading opendatasets-0.1.22-py3-none-any.whl (15 kB)\n",
            "Requirement already satisfied: tqdm in /usr/local/lib/python3.9/dist-packages (from opendatasets) (4.65.0)\n",
            "Requirement already satisfied: kaggle in /usr/local/lib/python3.9/dist-packages (from opendatasets) (1.5.13)\n",
            "Requirement already satisfied: click in /usr/local/lib/python3.9/dist-packages (from opendatasets) (8.1.3)\n",
            "Requirement already satisfied: urllib3 in /usr/local/lib/python3.9/dist-packages (from kaggle->opendatasets) (1.26.15)\n",
            "Requirement already satisfied: certifi in /usr/local/lib/python3.9/dist-packages (from kaggle->opendatasets) (2022.12.7)\n",
            "Requirement already satisfied: python-dateutil in /usr/local/lib/python3.9/dist-packages (from kaggle->opendatasets) (2.8.2)\n",
            "Requirement already satisfied: python-slugify in /usr/local/lib/python3.9/dist-packages (from kaggle->opendatasets) (8.0.1)\n",
            "Requirement already satisfied: requests in /usr/local/lib/python3.9/dist-packages (from kaggle->opendatasets) (2.27.1)\n",
            "Requirement already satisfied: six>=1.10 in /usr/local/lib/python3.9/dist-packages (from kaggle->opendatasets) (1.16.0)\n",
            "Requirement already satisfied: text-unidecode>=1.3 in /usr/local/lib/python3.9/dist-packages (from python-slugify->kaggle->opendatasets) (1.3)\n",
            "Requirement already satisfied: idna<4,>=2.5 in /usr/local/lib/python3.9/dist-packages (from requests->kaggle->opendatasets) (3.4)\n",
            "Requirement already satisfied: charset-normalizer~=2.0.0 in /usr/local/lib/python3.9/dist-packages (from requests->kaggle->opendatasets) (2.0.12)\n",
            "Installing collected packages: opendatasets\n",
            "Successfully installed opendatasets-0.1.22\n",
            "Please provide your Kaggle credentials to download this dataset. Learn more: http://bit.ly/kaggle-creds\n",
            "Your Kaggle username: abdelrhmanenait\n",
            "Your Kaggle Key: ··········\n",
            "Downloading utkface-new.zip to ./utkface-new\n"
          ]
        },
        {
          "output_type": "stream",
          "name": "stderr",
          "text": [
            "100%|██████████| 331M/331M [00:02<00:00, 130MB/s]\n"
          ]
        },
        {
          "output_type": "stream",
          "name": "stdout",
          "text": [
            "\n"
          ]
        }
      ],
      "source": [
        "!pip install opendatasets\n",
        "import opendatasets as od\n",
        "dataset_url = 'https://www.kaggle.com/datasets/jangedoo/utkface-new'\n",
        "od.download(dataset_url)"
      ]
    },
    {
      "cell_type": "code",
      "source": [
        "from google.colab import drive\n",
        "drive.mount('/content/drive', force_remount=True)"
      ],
      "metadata": {
        "colab": {
          "base_uri": "https://localhost:8080/"
        },
        "id": "Nb9LtTc76bWA",
        "outputId": "81f48020-0d51-4257-ec70-cc778ad3371a"
      },
      "execution_count": 2,
      "outputs": [
        {
          "output_type": "stream",
          "name": "stdout",
          "text": [
            "Mounted at /content/drive\n"
          ]
        }
      ]
    },
    {
      "cell_type": "markdown",
      "source": [
        "# Load Dataset"
      ],
      "metadata": {
        "id": "YmiPwELH8Z_Z"
      }
    },
    {
      "cell_type": "code",
      "source": [
        "import os\n",
        "from tqdm import tqdm\n",
        "import numpy as np\n",
        "import pandas as pd\n",
        "from matplotlib import pyplot as plt\n",
        "from PIL import Image\n",
        "import cv2 as cv\n",
        "from sklearn.model_selection import train_test_split\n",
        "from torchvision import transforms\n",
        "import torch\n",
        "import torch.nn as nn\n",
        "import torch.optim as optim\n",
        "import torch\n",
        "import torch.nn as nn\n",
        "import torch.optim as optim"
      ],
      "metadata": {
        "id": "2tgghWKujuee"
      },
      "execution_count": 1,
      "outputs": []
    },
    {
      "cell_type": "code",
      "source": [
        "transform = transforms.Compose([\n",
        "    transforms.Resize(224),\n",
        "    transforms.ToTensor(),\n",
        "     transforms.Normalize(mean=[0.485, 0.456, 0.406], std=[0.229, 0.224, 0.225])\n",
        "])\n"
      ],
      "metadata": {
        "id": "YCssKY3_rKoY"
      },
      "execution_count": 2,
      "outputs": []
    },
    {
      "cell_type": "code",
      "source": [
        "labels=[]\n",
        "dataset = []\n",
        "path = './utkface-new/UTKFace'\n",
        "for filename in tqdm(os.listdir(path)[0:8000]):\n",
        "  parts=filename.split('_')\n",
        "  image = Image.open(os.path.join(path,filename))\n",
        "  image = image.convert(\"RGB\")\n",
        "  input_tensor = transform(image)\n",
        "  dataset.append(input_tensor)\n",
        "  labels.append(int(parts[1]))\n",
        " \n",
        "# dataset = np.array(dataset)\n",
        "labels = np.array(labels)\n",
        "\n",
        "# print(dataset.shape)\n",
        "# _,cou=np.unique(labels, return_counts=True)\n",
        "# cou"
      ],
      "metadata": {
        "colab": {
          "base_uri": "https://localhost:8080/"
        },
        "id": "YfeCXYXdiaxY",
        "outputId": "44af64c8-abdf-4bd4-82f1-af37176f5438"
      },
      "execution_count": 3,
      "outputs": [
        {
          "output_type": "stream",
          "name": "stderr",
          "text": [
            "100%|██████████| 8000/8000 [00:37<00:00, 214.74it/s]\n"
          ]
        }
      ]
    },
    {
      "cell_type": "code",
      "source": [
        "# dt = torch.load('./drive/MyDrive/MobileNetV3_Gender/dataset/dataset_6000_v2.pt')\n",
        "# dt.extend(dataset)\n",
        "# torch.save(dataset,'./drive/MyDrive/MobileNetV3_Gender/dataset/dataset_18k_23k.pt')\n",
        "# from google.colab import drive\n",
        "# drive.mount('/content/drive', force_remount=True)"
      ],
      "metadata": {
        "id": "Af3xbgAFI76t"
      },
      "execution_count": 4,
      "outputs": []
    },
    {
      "cell_type": "code",
      "source": [
        "dataset = np.array(dataset)\n",
        "from torchvision import models\n",
        "device = torch.device(\"cuda:0\" if torch.cuda.is_available() else \"cpu\") # device object"
      ],
      "metadata": {
        "colab": {
          "base_uri": "https://localhost:8080/"
        },
        "id": "owMqcJUhSyp4",
        "outputId": "9dd91faa-04c3-46b4-c62c-56c3d7f21fb5"
      },
      "execution_count": 4,
      "outputs": [
        {
          "output_type": "stream",
          "name": "stderr",
          "text": [
            "<ipython-input-4-b1fcb0637249>:1: FutureWarning: The input object of type 'Tensor' is an array-like implementing one of the corresponding protocols (`__array__`, `__array_interface__` or `__array_struct__`); but not a sequence (or 0-D). In the future, this object will be coerced as if it was first converted using `np.array(obj)`. To retain the old behaviour, you have to either modify the type 'Tensor', or assign to an empty array created with `np.empty(correct_shape, dtype=object)`.\n",
            "  dataset = np.array(dataset)\n",
            "<ipython-input-4-b1fcb0637249>:1: VisibleDeprecationWarning: Creating an ndarray from ragged nested sequences (which is a list-or-tuple of lists-or-tuples-or ndarrays with different lengths or shapes) is deprecated. If you meant to do this, you must specify 'dtype=object' when creating the ndarray.\n",
            "  dataset = np.array(dataset)\n"
          ]
        }
      ]
    },
    {
      "cell_type": "markdown",
      "source": [
        "# RESNET18"
      ],
      "metadata": {
        "id": "yct2hP847_PT"
      }
    },
    {
      "cell_type": "code",
      "source": [
        "from torch.utils.data import Dataset, DataLoader\n",
        "\n",
        "# Define a custom dataset class\n",
        "class MyDataset(Dataset):\n",
        "    def __init__(self, data):\n",
        "        self.data = data\n",
        "\n",
        "    def __len__(self):\n",
        "        return len(self.data)\n",
        "\n",
        "    def __getitem__(self, index):\n",
        "        return self.data[index]\n",
        "\n",
        "\n"
      ],
      "metadata": {
        "id": "xB2NsrWw7Wl_"
      },
      "execution_count": 5,
      "outputs": []
    },
    {
      "cell_type": "code",
      "source": [
        "model = models.resnet18(pretrained=True)\n",
        "num_features = model.fc.in_features\n",
        "model.fc = nn.Linear(num_features, 2) # binary classification (num_of_class == 2)\n",
        "model = model.to(device)\n",
        "\n",
        "criterion = nn.CrossEntropyLoss()\n",
        "optimizer = optim.SGD(model.parameters(), lr=0.001, momentum=0.9)"
      ],
      "metadata": {
        "colab": {
          "base_uri": "https://localhost:8080/"
        },
        "id": "pdg1Lzctylv5",
        "outputId": "1a1d0882-b99c-45ae-e5b6-d3af6846a86a"
      },
      "execution_count": 5,
      "outputs": [
        {
          "output_type": "stream",
          "name": "stderr",
          "text": [
            "/usr/local/lib/python3.9/dist-packages/torchvision/models/_utils.py:208: UserWarning: The parameter 'pretrained' is deprecated since 0.13 and may be removed in the future, please use 'weights' instead.\n",
            "  warnings.warn(\n",
            "/usr/local/lib/python3.9/dist-packages/torchvision/models/_utils.py:223: UserWarning: Arguments other than a weight enum or `None` for 'weights' are deprecated since 0.13 and may be removed in the future. The current behavior is equivalent to passing `weights=ResNet18_Weights.IMAGENET1K_V1`. You can also use `weights=ResNet18_Weights.DEFAULT` to get the most up-to-date weights.\n",
            "  warnings.warn(msg)\n"
          ]
        }
      ]
    },
    {
      "cell_type": "code",
      "source": [
        "path = '/content/drive/MyDrive/MobileNetV3_Gender/model/model_resnet18_v5.pt'\n",
        "model = models.resnet18(pretrained=True)\n",
        "num_features = model.fc.in_features\n",
        "model.fc = nn.Linear(num_features, 2) # binary classification (num_of_class == 2)\n",
        "model.to(device)\n",
        "checkpoint = torch.load(path)\n",
        "model.load_state_dict(checkpoint['model_state_dict'])\n",
        "criterion = nn.CrossEntropyLoss()\n",
        "criterion.load_state_dict(checkpoint['criterion_state_dict'])\n",
        "optimizer = optim.SGD(model.parameters(), lr=0.001, momentum=0.9)\n",
        "optimizer.load_state_dict(checkpoint['optimizer_state_dict'])\n"
      ],
      "metadata": {
        "colab": {
          "base_uri": "https://localhost:8080/"
        },
        "id": "98EsSSUR3nRL",
        "outputId": "4094ba48-ab0e-432f-e291-2f8863e200f6"
      },
      "execution_count": 6,
      "outputs": [
        {
          "output_type": "stream",
          "name": "stderr",
          "text": [
            "/usr/local/lib/python3.9/dist-packages/torchvision/models/_utils.py:208: UserWarning: The parameter 'pretrained' is deprecated since 0.13 and may be removed in the future, please use 'weights' instead.\n",
            "  warnings.warn(\n",
            "/usr/local/lib/python3.9/dist-packages/torchvision/models/_utils.py:223: UserWarning: Arguments other than a weight enum or `None` for 'weights' are deprecated since 0.13 and may be removed in the future. The current behavior is equivalent to passing `weights=ResNet18_Weights.IMAGENET1K_V1`. You can also use `weights=ResNet18_Weights.DEFAULT` to get the most up-to-date weights.\n",
            "  warnings.warn(msg)\n"
          ]
        }
      ]
    },
    {
      "cell_type": "code",
      "source": [
        "num_epochs = 2\n",
        "batch_size = 64\n",
        "learning_rate = 0.001\n",
        "\n",
        "X_train, X_test, y_train, y_test = train_test_split(dataset, labels, test_size=0.33, random_state=112)\n",
        "X_train = DataLoader(MyDataset(X_train), batch_size=batch_size, shuffle=False)\n",
        "X_test = DataLoader(MyDataset(X_test), batch_size=batch_size, shuffle=False)\n",
        "y_train = DataLoader(MyDataset(y_train), batch_size=batch_size, shuffle=False)\n",
        "y_test = DataLoader(MyDataset(y_test), batch_size=batch_size, shuffle=False)\n",
        "\n",
        "for epoch in range(num_epochs):\n",
        "    \"\"\" Training Phase \"\"\"\n",
        "    model.train()\n",
        "\n",
        "    running_loss = 0.\n",
        "    running_corrects = 0\n",
        "\n",
        "    # load a batch data of images\n",
        "    for inputs, label in tqdm(zip(X_train, y_train)):\n",
        "        inputs = inputs.to(device)\n",
        "        label = label.to(device)\n",
        "\n",
        "        # forward inputs and get output\n",
        "        optimizer.zero_grad()\n",
        "        outputs = model(inputs)\n",
        "        _, preds = torch.max(outputs, 1)\n",
        "        loss = criterion(outputs, label)\n",
        "\n",
        "        # get loss value and update the network weights\n",
        "        loss.backward()\n",
        "        optimizer.step()\n",
        "\n",
        "        running_loss += loss.item() * inputs.size(0)\n",
        "        running_corrects += torch.sum(preds == label.data)\n",
        "        \n",
        "    epoch_loss = running_loss / len(y_train.dataset)\n",
        "    epoch_acc = running_corrects / len(y_train.dataset) * 100.\n",
        "    print('[Train #{}] Loss: {:.4f} Acc: {:.4f}%'.format(epoch, epoch_loss, epoch_acc))\n",
        "\n",
        "    \"\"\" Validation Phase \"\"\"\n",
        "    model.eval()\n",
        "\n",
        "    with torch.no_grad():\n",
        "        running_loss = 0.\n",
        "        running_corrects = 0\n",
        "\n",
        "        for inputs, label in tqdm(zip(X_test,y_test)):\n",
        "            inputs = inputs.to(device)\n",
        "            label = label.to(device)\n",
        "\n",
        "            outputs = model(inputs)\n",
        "            _, preds = torch.max(outputs, 1)\n",
        "            loss = criterion(outputs, label)\n",
        "\n",
        "            running_loss += loss.item() * inputs.size(0)\n",
        "            running_corrects += torch.sum(preds == label.data)\n",
        "\n",
        "        epoch_loss = running_loss / len(y_test.dataset)\n",
        "        epoch_acc = running_corrects / len(y_test.dataset) * 100.\n",
        "        print('[Validation #{}] Loss: {:.4f} Acc: {:.4f}%'.format(epoch, epoch_loss, epoch_acc))"
      ],
      "metadata": {
        "colab": {
          "base_uri": "https://localhost:8080/"
        },
        "id": "eeSIWNwwyKnl",
        "outputId": "f5b2acbe-a819-4c32-fb12-8086b4a9e8d5"
      },
      "execution_count": 8,
      "outputs": [
        {
          "output_type": "stream",
          "name": "stderr",
          "text": [
            "84it [00:17,  4.73it/s]\n"
          ]
        },
        {
          "output_type": "stream",
          "name": "stdout",
          "text": [
            "[Train #0] Loss: 0.1409 Acc: 95.1306%\n"
          ]
        },
        {
          "output_type": "stream",
          "name": "stderr",
          "text": [
            "42it [00:03, 13.10it/s]\n"
          ]
        },
        {
          "output_type": "stream",
          "name": "stdout",
          "text": [
            "[Validation #0] Loss: 0.1283 Acc: 95.4545%\n"
          ]
        },
        {
          "output_type": "stream",
          "name": "stderr",
          "text": [
            "84it [00:16,  5.00it/s]\n"
          ]
        },
        {
          "output_type": "stream",
          "name": "stdout",
          "text": [
            "[Train #1] Loss: 0.0370 Acc: 99.3097%\n"
          ]
        },
        {
          "output_type": "stream",
          "name": "stderr",
          "text": [
            "42it [00:03, 11.54it/s]"
          ]
        },
        {
          "output_type": "stream",
          "name": "stdout",
          "text": [
            "[Validation #1] Loss: 0.1286 Acc: 95.5682%\n"
          ]
        },
        {
          "output_type": "stream",
          "name": "stderr",
          "text": [
            "\n"
          ]
        }
      ]
    },
    {
      "cell_type": "code",
      "source": [
        "path = '/content/drive/MyDrive/MobileNetV3_Gender/model/model_resnet18_v6.pt'\n",
        "torch.save({\n",
        "    'model_state_dict': model.state_dict(),\n",
        "    'optimizer_state_dict': optimizer.state_dict(),\n",
        "    'criterion_state_dict': criterion.state_dict(),\n",
        "}, path)"
      ],
      "metadata": {
        "id": "0g7mA7KByMMd"
      },
      "execution_count": 10,
      "outputs": []
    },
    {
      "cell_type": "code",
      "source": [
        "data = DataLoader(MyDataset(dataset), batch_size=1, shuffle=False)\n",
        "y = DataLoader(MyDataset(labels), batch_size=1, shuffle=False)\n",
        "model.eval()\n",
        "for epoch in [1]:\n",
        "  with torch.no_grad():\n",
        "      running_loss = 0.\n",
        "      running_corrects = 0\n",
        "\n",
        "      for inputs, label in tqdm(zip(data,y)):\n",
        "          inputs = inputs.to(device)\n",
        "          label = label.to(device)\n",
        "\n",
        "          outputs = model(inputs)\n",
        "          _, preds = torch.max(outputs, 1)\n",
        "          loss = criterion(outputs, label)\n",
        "\n",
        "          running_loss += loss.item() * inputs.size(0)\n",
        "          running_corrects += torch.sum(preds == label.data)\n",
        "\n",
        "      epoch_loss = running_loss / len(y.dataset)\n",
        "      epoch_acc = running_corrects / len(y.dataset) * 100.\n",
        "      print('[Validation #{}] Loss: {:.4f} Acc: {:.4f}%'.format(epoch, epoch_loss, epoch_acc))"
      ],
      "metadata": {
        "colab": {
          "base_uri": "https://localhost:8080/"
        },
        "id": "Ppu7LJ32Skyi",
        "outputId": "1a152d44-9f69-44a8-bc9a-6a39861f1dc7"
      },
      "execution_count": 9,
      "outputs": [
        {
          "output_type": "stream",
          "name": "stderr",
          "text": [
            "8000it [00:28, 283.36it/s]"
          ]
        },
        {
          "output_type": "stream",
          "name": "stdout",
          "text": [
            "[Validation #1] Loss: 0.0940 Acc: 96.5625%\n"
          ]
        },
        {
          "output_type": "stream",
          "name": "stderr",
          "text": [
            "\n"
          ]
        }
      ]
    },
    {
      "cell_type": "markdown",
      "source": [
        "# MobileNet3"
      ],
      "metadata": {
        "id": "siIHBHd876_0"
      }
    },
    {
      "cell_type": "code",
      "source": [
        "from torch.utils.data import Dataset, DataLoader\n",
        "\n",
        "# Define a custom dataset class\n",
        "class MyDataset(Dataset):\n",
        "    def __init__(self, data):\n",
        "        self.data = data\n",
        "\n",
        "    def __len__(self):\n",
        "        return len(self.data)\n",
        "\n",
        "    def __getitem__(self, index):\n",
        "        return self.data[index]\n",
        "\n",
        "\n"
      ],
      "metadata": {
        "id": "6hz6RxBjnjHO"
      },
      "execution_count": 7,
      "outputs": []
    },
    {
      "cell_type": "code",
      "source": [
        "model = torch.hub.load('pytorch/vision:v0.9.0', 'mobilenet_v3_large', pretrained=True)\n",
        "# Freeze the weights of the model\n",
        "for param in model.parameters():\n",
        "    param.requires_grad = False\n",
        "\n",
        "# Modify the last layer of the model to output 2 classes (male and female)\n",
        "num_ftrs = model.classifier[-1].in_features\n",
        "model.classifier[-1] = nn.Linear(num_ftrs, 2)\n",
        "\n",
        "checkpoint = torch.load('/content/drive/MyDrive/MobileNetV3_Gender/model/model_12kv1_8.pt')\n",
        "model.load_state_dict(checkpoint['model_state_dict'])\n",
        "criterion = nn.CrossEntropyLoss()\n",
        "criterion.load_state_dict(checkpoint['criterion_state_dict'])\n",
        "optimizer = optim.Adam(model.classifier[-1].parameters(), lr=0.001)\n",
        "optimizer.load_state_dict(checkpoint['optimizer_state_dict'])"
      ],
      "metadata": {
        "colab": {
          "base_uri": "https://localhost:8080/"
        },
        "id": "GVxU9rc9n8Qb",
        "outputId": "8b49a76f-e5fe-44da-ce2e-6171a6ca9122"
      },
      "execution_count": 7,
      "outputs": [
        {
          "output_type": "stream",
          "name": "stderr",
          "text": [
            "Downloading: \"https://github.com/pytorch/vision/zipball/v0.9.0\" to /root/.cache/torch/hub/v0.9.0.zip\n",
            "/usr/local/lib/python3.9/dist-packages/torchvision/models/_utils.py:208: UserWarning: The parameter 'pretrained' is deprecated since 0.13 and may be removed in the future, please use 'weights' instead.\n",
            "  warnings.warn(\n",
            "/usr/local/lib/python3.9/dist-packages/torchvision/models/_utils.py:223: UserWarning: Arguments other than a weight enum or `None` for 'weights' are deprecated since 0.13 and may be removed in the future. The current behavior is equivalent to passing `weights=MobileNet_V3_Large_Weights.IMAGENET1K_V1`. You can also use `weights=MobileNet_V3_Large_Weights.DEFAULT` to get the most up-to-date weights.\n",
            "  warnings.warn(msg)\n",
            "Downloading: \"https://download.pytorch.org/models/mobilenet_v3_large-8738ca79.pth\" to /root/.cache/torch/hub/checkpoints/mobilenet_v3_large-8738ca79.pth\n",
            "100%|██████████| 21.1M/21.1M [00:00<00:00, 68.6MB/s]\n"
          ]
        }
      ]
    },
    {
      "cell_type": "code",
      "source": [
        "# Define the hyperparameters\n",
        "batch_size = 64\n",
        "learning_rate = 0.001\n",
        "num_epochs = 4\n",
        "\n",
        "X_train, X_test, y_train, y_test = train_test_split(dataset, labels, test_size=0.33, random_state=42)\n",
        "X_train = DataLoader(MyDataset(X_train), batch_size=batch_size, shuffle=False)\n",
        "X_test = DataLoader(MyDataset(X_test), batch_size=batch_size, shuffle=False)\n",
        "y_train = DataLoader(MyDataset(y_train), batch_size=batch_size, shuffle=False)\n",
        "y_test = DataLoader(MyDataset(y_test), batch_size=batch_size, shuffle=False)\n",
        "\n",
        "\n",
        "if False:\n",
        "  # Load the pre-trained MobileNetV3 model\n",
        "  model = torch.hub.load('pytorch/vision:v0.9.0', 'mobilenet_v3_large', pretrained=True)\n",
        "\n",
        "  # Freeze the weights of the model\n",
        "  for param in model.parameters():\n",
        "      param.requires_grad = False\n",
        "\n",
        "  # Modify the last layer of the model to output 2 classes (male and female)\n",
        "  num_ftrs = model.classifier[-1].in_features\n",
        "  model.classifier[-1] = nn.Linear(num_ftrs, 2)\n",
        "\n",
        "  # Define the loss function and optimizer\n",
        "  criterion = nn.CrossEntropyLoss()\n",
        "  optimizer = optim.Adam(model.classifier[-1].parameters(), lr=learning_rate)\n",
        "else:\n",
        "  model = torch.hub.load('pytorch/vision:v0.9.0', 'mobilenet_v3_large', pretrained=True)\n",
        "  # Freeze the weights of the model\n",
        "  for param in model.parameters():\n",
        "      param.requires_grad = False\n",
        "\n",
        "  # Modify the last layer of the model to output 2 classes (male and female)\n",
        "  num_ftrs = model.classifier[-1].in_features\n",
        "  model.classifier[-1] = nn.Linear(num_ftrs, 2)\n",
        "\n",
        "  checkpoint = torch.load('/content/drive/MyDrive/MobileNetV3_Gender/model/model_6_end_kv2_24.pt')\n",
        "  model.load_state_dict(checkpoint['model_state_dict'])\n",
        "  criterion = nn.CrossEntropyLoss()\n",
        "  criterion.load_state_dict(checkpoint['criterion_state_dict'])\n",
        "  optimizer = optim.Adam(model.classifier[-1].parameters(), lr=learning_rate)\n",
        "  optimizer.load_state_dict(checkpoint['optimizer_state_dict'])\n",
        "# optimizer = optim.Adam(model.classifier[-1].parameters(), lr=learning_rate)\n",
        "# Train the model\n",
        "for epoch in range(num_epochs):\n",
        "    running_loss = 0.0\n",
        "    for inputs, label in tqdm(zip(X_train,y_train)):\n",
        "        optimizer.zero_grad()\n",
        "        outputs = model(inputs)\n",
        "        loss = criterion(outputs, label)\n",
        "        loss.backward()\n",
        "        optimizer.step()\n",
        "        running_loss += loss.item() * inputs.size(0)\n",
        "    \n",
        "    # Print the training loss for each epoch\n",
        "    epoch_loss = running_loss / len(y_train.dataset)\n",
        "    print(f'Training Loss epoch {epoch+1}: {epoch_loss:.4f}')\n",
        "\n",
        "# Evaluate the model on the test set\n",
        "correct = 0\n",
        "total = 0\n",
        "with torch.no_grad():\n",
        "    for inputs, label in tqdm(zip(X_test,y_test)):\n",
        "        outputs = model(inputs)\n",
        "        _, predicted = torch.max(outputs.data, 1)\n",
        "        total += label.size(0)\n",
        "        correct += (predicted == label).sum().item()\n",
        "\n",
        "# Print the accuracy of the model on the test set\n",
        "test_acc = 100 * correct / total\n",
        "print(f'Test Accuracy: {test_acc:.2f}%')\n"
      ],
      "metadata": {
        "colab": {
          "base_uri": "https://localhost:8080/"
        },
        "id": "Z_081-9MhmUS",
        "outputId": "6f6b80b3-ec30-427b-9f87-6a48fd1e8cac"
      },
      "execution_count": 7,
      "outputs": [
        {
          "output_type": "stream",
          "name": "stderr",
          "text": [
            "Using cache found in /root/.cache/torch/hub/pytorch_vision_v0.9.0\n",
            "69it [04:26,  3.87s/it]\n"
          ]
        },
        {
          "output_type": "stream",
          "name": "stdout",
          "text": [
            "Training Loss epoch 1: 0.4748\n"
          ]
        },
        {
          "output_type": "stream",
          "name": "stderr",
          "text": [
            "69it [04:24,  3.84s/it]\n"
          ]
        },
        {
          "output_type": "stream",
          "name": "stdout",
          "text": [
            "Training Loss epoch 2: 0.4409\n"
          ]
        },
        {
          "output_type": "stream",
          "name": "stderr",
          "text": [
            "69it [04:18,  3.74s/it]\n"
          ]
        },
        {
          "output_type": "stream",
          "name": "stdout",
          "text": [
            "Training Loss epoch 3: 0.4159\n"
          ]
        },
        {
          "output_type": "stream",
          "name": "stderr",
          "text": [
            "69it [04:14,  3.70s/it]\n"
          ]
        },
        {
          "output_type": "stream",
          "name": "stdout",
          "text": [
            "Training Loss epoch 4: 0.3936\n"
          ]
        },
        {
          "output_type": "stream",
          "name": "stderr",
          "text": [
            "34it [02:04,  3.67s/it]"
          ]
        },
        {
          "output_type": "stream",
          "name": "stdout",
          "text": [
            "Test Accuracy: 80.09%\n"
          ]
        },
        {
          "output_type": "stream",
          "name": "stderr",
          "text": [
            "\n"
          ]
        }
      ]
    },
    {
      "cell_type": "code",
      "source": [
        "# Evaluate the model on the test set\n",
        "model = torch.hub.load('pytorch/vision:v0.9.0', 'mobilenet_v3_large', pretrained=True)\n",
        "# Freeze the weights of the model\n",
        "for param in model.parameters():\n",
        "    param.requires_grad = False\n",
        "\n",
        "# Modify the last layer of the model to output 2 classes (male and female)\n",
        "num_ftrs = model.classifier[-1].in_features\n",
        "model.classifier[-1] = nn.Linear(num_ftrs, 2)\n",
        "\n",
        "checkpoint = torch.load('/content/drive/MyDrive/MobileNetV3_Gender/model/model_6_epoch_24.pt')\n",
        "model.load_state_dict(checkpoint['model_state_dict'])\n",
        "criterion = nn.CrossEntropyLoss()\n",
        "criterion.load_state_dict(checkpoint['criterion_state_dict'])\n",
        "optimizer = optim.Adam(model.classifier[-1].parameters(), lr=learning_rate)\n",
        "optimizer.load_state_dict(checkpoint['optimizer_state_dict'])\n",
        "correct = 0\n",
        "total = 0\n",
        "with torch.no_grad():\n",
        "    for inputs, label in tqdm(zip(dataset,labels)):\n",
        "        outputs = model(inputs.unsqueeze(0))\n",
        "        _, predicted = torch.max(outputs.data, 1)\n",
        "        total += 1\n",
        "        correct += (predicted == label).sum().item()\n",
        "\n",
        "# Print the accuracy of the model on the test set\n",
        "test_acc = 100 * correct / total\n",
        "print(f'Test Accuracy: {test_acc:.2f}%')\n"
      ],
      "metadata": {
        "colab": {
          "base_uri": "https://localhost:8080/"
        },
        "id": "UiPV2cXIEGHY",
        "outputId": "fd17de4e-ced0-4838-a248-cf3641ea79a3"
      },
      "execution_count": 15,
      "outputs": [
        {
          "output_type": "stream",
          "name": "stderr",
          "text": [
            "Using cache found in /root/.cache/torch/hub/pytorch_vision_v0.9.0\n",
            "6500it [04:40, 23.18it/s]"
          ]
        },
        {
          "output_type": "stream",
          "name": "stdout",
          "text": [
            "Test Accuracy: 53.09%\n"
          ]
        },
        {
          "output_type": "stream",
          "name": "stderr",
          "text": [
            "\n"
          ]
        }
      ]
    },
    {
      "cell_type": "code",
      "source": [
        "batch_size = 64\n",
        "learning_rate = 0.001\n",
        "X_train, X_test, y_train, y_test = train_test_split(dataset, labels, test_size=0.33, random_state=42)\n",
        "X_train = DataLoader(MyDataset(X_train), batch_size=batch_size, shuffle=False)\n",
        "X_test = DataLoader(MyDataset(X_test), batch_size=batch_size, shuffle=False)\n",
        "y_train = DataLoader(MyDataset(y_train), batch_size=batch_size, shuffle=False)\n",
        "y_test = DataLoader(MyDataset(y_test), batch_size=batch_size, shuffle=False)"
      ],
      "metadata": {
        "id": "nLCEh5iUrBPv"
      },
      "execution_count": 9,
      "outputs": []
    },
    {
      "cell_type": "code",
      "source": [
        "from torchvision import models\n",
        "model = models.resnet18(pretrained=True)\n",
        "num_features = model.fc.in_features\n",
        "model.fc = nn.Linear(num_features, 2) # binary classification (num_of_class == 2)\n",
        "model.load_state_dict(torch.load(\"/content/drive/MyDrive/MobileNetV3_Gender/model/face_gender_classification_transfer_learning_with_ResNet18.pth\"))"
      ],
      "metadata": {
        "colab": {
          "base_uri": "https://localhost:8080/"
        },
        "id": "hlvKTP5gGH22",
        "outputId": "73edebe5-d483-4802-a2b0-db3d233f013d"
      },
      "execution_count": 3,
      "outputs": [
        {
          "output_type": "stream",
          "name": "stderr",
          "text": [
            "/usr/local/lib/python3.9/dist-packages/torchvision/models/_utils.py:208: UserWarning: The parameter 'pretrained' is deprecated since 0.13 and may be removed in the future, please use 'weights' instead.\n",
            "  warnings.warn(\n",
            "/usr/local/lib/python3.9/dist-packages/torchvision/models/_utils.py:223: UserWarning: Arguments other than a weight enum or `None` for 'weights' are deprecated since 0.13 and may be removed in the future. The current behavior is equivalent to passing `weights=ResNet18_Weights.IMAGENET1K_V1`. You can also use `weights=ResNet18_Weights.DEFAULT` to get the most up-to-date weights.\n",
            "  warnings.warn(msg)\n"
          ]
        },
        {
          "output_type": "execute_result",
          "data": {
            "text/plain": [
              "<All keys matched successfully>"
            ]
          },
          "metadata": {},
          "execution_count": 3
        }
      ]
    },
    {
      "cell_type": "code",
      "source": [
        "torch.save({\n",
        "    'model_state_dict': model.state_dict(),\n",
        "    'optimizer_state_dict': optimizer.state_dict(),\n",
        "    'criterion_state_dict': criterion.state_dict(),\n",
        "}, '/content/drive/MyDrive/MobileNetV3_Gender/model/model_epoch_28.pt')"
      ],
      "metadata": {
        "id": "HspRLybKHKW4",
        "colab": {
          "base_uri": "https://localhost:8080/"
        },
        "outputId": "35130f05-52c9-442b-caa7-9e4d337c21c9"
      },
      "execution_count": 15,
      "outputs": [
        {
          "output_type": "stream",
          "name": "stdout",
          "text": [
            "Loss: 343.0775 Acc: 750.0000%\n"
          ]
        }
      ]
    }
  ]
}